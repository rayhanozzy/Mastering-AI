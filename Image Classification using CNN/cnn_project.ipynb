{
  "cells": [
    {
      "cell_type": "markdown",
      "metadata": {
        "id": "view-in-github",
        "colab_type": "text"
      },
      "source": [
        "<a href=\"https://colab.research.google.com/github/rayhanozzy/Mastering-AI/blob/main/Image%20Classification%20using%20CNN/cnn_project.ipynb\" target=\"_parent\"><img src=\"https://colab.research.google.com/assets/colab-badge.svg\" alt=\"Open In Colab\"/></a>"
      ]
    },
    {
      "cell_type": "markdown",
      "id": "0fd75ab4-1ea8-40d6-b52c-99bee57053ca",
      "metadata": {
        "id": "0fd75ab4-1ea8-40d6-b52c-99bee57053ca"
      },
      "source": [
        "# CNN - Project"
      ]
    },
    {
      "cell_type": "markdown",
      "id": "194d8da1-20e4-4b61-b508-8e34c682a480",
      "metadata": {
        "id": "194d8da1-20e4-4b61-b508-8e34c682a480"
      },
      "source": [
        "## Project Description\n",
        "\n",
        "In this CNN Project, you will create your own custom Image Classification. You can collect a dataset of images you are interested in and train a CNN model to differentiate between them. For example, a model could be trained to distinguish between different types of birds, cars, plants, or any other topic of interest."
      ]
    },
    {
      "cell_type": "code",
      "execution_count": null,
      "id": "9dad0abc-34ef-44db-9a88-32d9d8ab2fbe",
      "metadata": {
        "id": "9dad0abc-34ef-44db-9a88-32d9d8ab2fbe"
      },
      "outputs": [],
      "source": [
        "#Write any package/module installation that you need here\n",
        "import torch\n",
        "import torch.nn as nn\n",
        "import torch.optim as optim\n",
        "from torch.utils.data import DataLoader, Dataset\n",
        "import torchvision\n",
        "import torchvision.transforms as transforms\n",
        "from torchvision import models\n",
        "import os"
      ]
    },
    {
      "cell_type": "markdown",
      "id": "bc07a2ba-cefc-425f-b86e-2f554b98bd4f",
      "metadata": {
        "id": "bc07a2ba-cefc-425f-b86e-2f554b98bd4f"
      },
      "source": [
        "## Task-1 Load the dataset\n",
        "\n",
        "In this task, you will prepare and load your dataset. **You can choose any dataset you want**, make sure the data is diverse and large enough to prevent overfitting and improve the model's ability to generalize.\n",
        "\n",
        "If you are using images from the internet, **please respect copyright and privacy laws**. Creative Commons licenses or public domain images are a safe bet, and many APIs (like the Unsplash API) provide access to a large number of such images."
      ]
    },
    {
      "cell_type": "markdown",
      "id": "26150053-ddb0-447a-8def-efab3f75d336",
      "metadata": {
        "id": "26150053-ddb0-447a-8def-efab3f75d336"
      },
      "source": [
        "### 1.1 Optional Custom Dataset\n",
        "Provided below is a custom dataset template that you may want to use for your code. It's completely optional.\n",
        "\n",
        "Alternatively, you can review the material on Data Augmentation or read the Pytorch tutorial https://pytorch.org/tutorials/beginner/basics/data_tutorial.html#creating-a-custom-dataset-for-your-files"
      ]
    },
    {
      "cell_type": "code",
      "execution_count": null,
      "id": "c598c9e0-31fe-4c13-956b-49c0033a39e0",
      "metadata": {
        "id": "c598c9e0-31fe-4c13-956b-49c0033a39e0"
      },
      "outputs": [],
      "source": [
        "#an example of creating our own custom dataset, you can use this if you want/need. Completely optional.\n",
        "import os\n",
        "import pandas as pd\n",
        "from torchvision.io import read_image\n",
        "\n",
        "class CustomImageDataset(Dataset):\n",
        "    def __init__(self, annotations_file, img_dir, transform=None, target_transform=None):\n",
        "        self.img_labels = pd.read_csv(annotations_file)\n",
        "        self.img_dir = img_dir\n",
        "        self.transform = transform\n",
        "        self.target_transform = target_transform\n",
        "\n",
        "    def __len__(self):\n",
        "        return len(self.img_labels)\n",
        "\n",
        "    def __getitem__(self, idx):\n",
        "        img_path = os.path.join(self.img_dir, self.img_labels.iloc[idx, 0])\n",
        "        image = read_image(img_path)\n",
        "        label = self.img_labels.iloc[idx, 1]\n",
        "        if self.transform:\n",
        "            image = self.transform(image)\n",
        "        if self.target_transform:\n",
        "            label = self.target_transform(label)\n",
        "        return image, label"
      ]
    },
    {
      "cell_type": "markdown",
      "id": "0abe9d36-5f0f-4e71-a24d-c5acea2c3735",
      "metadata": {
        "id": "0abe9d36-5f0f-4e71-a24d-c5acea2c3735"
      },
      "source": [
        "### 1.2 Write your code in the block below\n",
        "\n",
        "In the code block below, prepare and load your dataset. Please include data preprocessing steps such as dividing the dataset into training, validation, and test sets, or data augmentation techniques that you used if any in this section. Do not put the code to build your model here.\n",
        "\n",
        "Some techniques you may use:\n",
        "- Find and load existing dataset from Huggingface or Kaggle. (Easy)\n",
        "- Create your own custom dataset from the images you have in your possesion or internet search and load the dataset. (Hard)\n",
        "- Etc.\n",
        "\n",
        "Hint:\n",
        "- Usually the dataset are loaded into train_dataset and test_dataset"
      ]
    },
    {
      "cell_type": "code",
      "source": [
        "# Write your data preprocessing code here\n",
        "# Define data transformations\n",
        "transform = transforms.Compose([transforms.ToTensor(), transforms.Normalize((0.5, 0.5, 0.5), (0.5, 0.5, 0.5))])\n",
        "\n",
        "# Load CIFAR-10 data using torchvision.datasets\n",
        "train_dataset = torchvision.datasets.CIFAR10(root='./data', train=True, transform=transform, download=True)\n",
        "test_dataset = torchvision.datasets.CIFAR10(root='./data', train=False, transform=transform, download=True)\n",
        "\n",
        "# Use Data Loader\n",
        "train_loader = DataLoader(train_dataset, batch_size=100, shuffle=True)\n",
        "test_loader = DataLoader(test_dataset, batch_size=100, shuffle=False)"
      ],
      "metadata": {
        "colab": {
          "base_uri": "https://localhost:8080/"
        },
        "id": "w5RV64czdgYx",
        "outputId": "0e7b9273-b38d-437a-f70a-1e4ed4422043"
      },
      "id": "w5RV64czdgYx",
      "execution_count": null,
      "outputs": [
        {
          "output_type": "stream",
          "name": "stdout",
          "text": [
            "Downloading https://www.cs.toronto.edu/~kriz/cifar-10-python.tar.gz to ./data/cifar-10-python.tar.gz\n"
          ]
        },
        {
          "output_type": "stream",
          "name": "stderr",
          "text": [
            "100%|██████████| 170498071/170498071 [00:05<00:00, 30292177.87it/s]\n"
          ]
        },
        {
          "output_type": "stream",
          "name": "stdout",
          "text": [
            "Extracting ./data/cifar-10-python.tar.gz to ./data\n",
            "Files already downloaded and verified\n"
          ]
        }
      ]
    },
    {
      "cell_type": "markdown",
      "id": "be3e5a65-0562-408a-9b9d-738e8efd825e",
      "metadata": {
        "id": "be3e5a65-0562-408a-9b9d-738e8efd825e"
      },
      "source": [
        "## Task-2 Build your model\n",
        "\n",
        "In this task, you will now build and save your model. You can either create your own CNN model or choose any pretrained model that you feel is most appropriate for your dataset."
      ]
    },
    {
      "cell_type": "markdown",
      "id": "3683681f-2bbc-4c9d-9d5b-fb5b86dac054",
      "metadata": {
        "id": "3683681f-2bbc-4c9d-9d5b-fb5b86dac054"
      },
      "source": [
        "### 2.1 Write your code in the block below\n",
        "\n",
        "In the code block below, write the code to **create your model, either from scratch or fine tuning a pretrained model**. You will need to write the code for your model definition, such as the layers used, loss function and optimizer. Please include also the training and validation loops.\n",
        "\n",
        "Make sure you **save your model to a file** and **measure the accuracy of your model**, as this will be submitted for this task.\n",
        "\n",
        "Some techniques you may use:\n",
        "- Use pretrained model. (Easy)\n",
        "- Create a CNN model from scratch. (Hard)\n",
        "- Etc.\n",
        "\n",
        "Hint:\n",
        "- Use GPU in Google Colab, it significantly improves the time taken for training, compared to CPU.\n",
        "- **Google Colab GPU usage for free-tier have a limit**, which is unknown, so I suggest you try out in CPU mode that your code works without error, then use GPU for traininig.\n",
        "- If you are going to upload to Huggingface by using the Transformer Trainer during training, make sure you use the Huggingface method. Refer to Transfer Learning section or read the documentation here: https://huggingface.co/docs/transformers/model_sharing"
      ]
    },
    {
      "cell_type": "code",
      "source": [
        "#Write your code to build your model here\n",
        "import torch\n",
        "import torch.nn as nn\n",
        "import torch.optim as optim\n",
        "import torchvision\n",
        "from torchvision import transforms\n",
        "from torch.utils.data import DataLoader\n",
        "from sklearn.metrics import accuracy_score\n",
        "\n",
        "# Define the CNN model\n",
        "class CNNModel(nn.Module):\n",
        "    def __init__(self, num_classes):\n",
        "        super(CNNModel, self).__init__()  # Add parentheses to super()\n",
        "        self.features = nn.Sequential(\n",
        "            nn.Conv2d(3, 32, kernel_size=3, padding=1),\n",
        "            nn.ReLU(),\n",
        "            nn.MaxPool2d(kernel_size=2, stride=2),\n",
        "            nn.Conv2d(32, 64, kernel_size=3, padding=1),\n",
        "            nn.ReLU(),\n",
        "            nn.MaxPool2d(kernel_size=2, stride=2),\n",
        "            nn.Conv2d(64, 128, kernel_size=3, padding=1),\n",
        "            nn.ReLU(),\n",
        "            nn.MaxPool2d(kernel_size=2, stride=2),\n",
        "        )\n",
        "        self.classifier = nn.Sequential(\n",
        "            nn.Linear(128 * 4 * 4, 512),\n",
        "            nn.ReLU(),\n",
        "            nn.Dropout(0.5),\n",
        "            nn.Linear(512, num_classes),\n",
        "        )\n",
        "\n",
        "    def forward(self, x):\n",
        "        x = self.features(x)\n",
        "        x = x.view(x.size(0), -1)\n",
        "        x = self.classifier(x)\n",
        "        return x\n",
        "\n",
        "# Initialize model and set hyperparameters\n",
        "model = CNNModel(num_classes=10)  # CIFAR-10 has 10 classes\n",
        "device = torch.device(\"cuda\" if torch.cuda.is_available() else \"cpu\")\n",
        "model.to(device)\n",
        "\n",
        "# Loss function and optimizer\n",
        "criterion = nn.CrossEntropyLoss()\n",
        "optimizer = optim.Adam(model.parameters(), lr=0.001)\n",
        "\n",
        "# Training loop\n",
        "num_epochs = 50\n",
        "for epoch in range(num_epochs):\n",
        "    model.train()\n",
        "    running_loss = 0.0\n",
        "    for i, data in enumerate(train_loader, 0):\n",
        "        inputs, labels = data\n",
        "        inputs, labels = inputs.to(device), labels.to(device)\n",
        "\n",
        "        optimizer.zero_grad()\n",
        "\n",
        "        outputs = model(inputs)\n",
        "        loss = criterion(outputs, labels)\n",
        "        loss.backward()\n",
        "        optimizer.step()\n",
        "\n",
        "        running_loss += loss.item()\n",
        "\n",
        "    print(f\"Epoch {epoch + 1}, Loss: {running_loss / len(train_loader)}\")\n",
        "\n",
        "# Validation loop\n",
        "model.eval()\n",
        "predictions = []\n",
        "true_labels = []\n",
        "\n",
        "with torch.no_grad():\n",
        "    for data in test_loader:\n",
        "        inputs, labels = data\n",
        "        inputs, labels = inputs.to(device), labels.to(device)\n",
        "\n",
        "        outputs = model(inputs)\n",
        "        _, predicted = torch.max(outputs.data, 1)\n",
        "\n",
        "        predictions.extend(predicted.cpu().numpy())\n",
        "        true_labels.extend(labels.cpu().numpy())\n",
        "\n",
        "accuracy = accuracy_score(true_labels, predictions)\n",
        "print(f\"Accuracy: {accuracy * 100:.2f}%\")\n",
        "\n",
        "# Save the model\n",
        "torch.save(model.state_dict(), \"cifar10_cnn_model.pth\")"
      ],
      "metadata": {
        "colab": {
          "base_uri": "https://localhost:8080/"
        },
        "id": "VHLkGB69VRZl",
        "outputId": "8166889f-fd09-49ac-9645-5aca8886c1e7"
      },
      "id": "VHLkGB69VRZl",
      "execution_count": null,
      "outputs": [
        {
          "output_type": "stream",
          "name": "stdout",
          "text": [
            "Epoch 1, Loss: 1.493749065876007\n",
            "Epoch 2, Loss: 1.0760661284923554\n",
            "Epoch 3, Loss: 0.8873490419387817\n",
            "Epoch 4, Loss: 0.7633965603113174\n",
            "Epoch 5, Loss: 0.678139275252819\n",
            "Epoch 6, Loss: 0.6003034115433693\n",
            "Epoch 7, Loss: 0.5341852638721466\n",
            "Epoch 8, Loss: 0.47509050795435903\n",
            "Epoch 9, Loss: 0.4216607447564602\n",
            "Epoch 10, Loss: 0.38042396780848503\n",
            "Epoch 11, Loss: 0.3357211081981659\n",
            "Epoch 12, Loss: 0.304189172655344\n",
            "Epoch 13, Loss: 0.2763716998696327\n",
            "Epoch 14, Loss: 0.2512572718858719\n",
            "Epoch 15, Loss: 0.2253542990088463\n",
            "Epoch 16, Loss: 0.20472171010077\n",
            "Epoch 17, Loss: 0.19390727688372136\n",
            "Epoch 18, Loss: 0.18862871715426446\n",
            "Epoch 19, Loss: 0.1721483232676983\n",
            "Epoch 20, Loss: 0.1602536598071456\n",
            "Epoch 21, Loss: 0.15414341182261707\n",
            "Epoch 22, Loss: 0.14538057327270507\n",
            "Epoch 23, Loss: 0.14360643276572227\n",
            "Epoch 24, Loss: 0.13911765625700354\n",
            "Epoch 25, Loss: 0.13086320772767068\n",
            "Epoch 26, Loss: 0.12944770084694027\n",
            "Epoch 27, Loss: 0.1256429310925305\n",
            "Epoch 28, Loss: 0.11906204950809479\n",
            "Epoch 29, Loss: 0.11849810162745417\n",
            "Epoch 30, Loss: 0.11842555309832097\n",
            "Epoch 31, Loss: 0.11538787026889623\n",
            "Epoch 32, Loss: 0.11166217869706452\n",
            "Epoch 33, Loss: 0.10469111868739128\n",
            "Epoch 34, Loss: 0.10051628269441426\n",
            "Epoch 35, Loss: 0.10899521348252893\n",
            "Epoch 36, Loss: 0.1025554221458733\n",
            "Epoch 37, Loss: 0.0983673202674836\n",
            "Epoch 38, Loss: 0.09900508718378842\n",
            "Epoch 39, Loss: 0.10056443926505744\n",
            "Epoch 40, Loss: 0.10315536007471382\n",
            "Epoch 41, Loss: 0.09531115510128438\n",
            "Epoch 42, Loss: 0.09799609003495426\n",
            "Epoch 43, Loss: 0.09725989759154617\n",
            "Epoch 44, Loss: 0.0980572472140193\n",
            "Epoch 45, Loss: 0.08382357496162876\n",
            "Epoch 46, Loss: 0.09749392102472484\n",
            "Epoch 47, Loss: 0.08987539540603758\n",
            "Epoch 48, Loss: 0.08957108066789805\n",
            "Epoch 49, Loss: 0.08943765836767853\n",
            "Epoch 50, Loss: 0.08827107595279812\n",
            "Accuracy: 77.23%\n"
          ]
        }
      ]
    },
    {
      "cell_type": "markdown",
      "id": "156bff33-3226-4366-8ea0-df0b788f9861",
      "metadata": {
        "id": "156bff33-3226-4366-8ea0-df0b788f9861"
      },
      "source": [
        "## Task-3 Model Inference\n",
        "\n",
        "In this task, you will be exercising the application of your model, or as it's commonly referred to in AI terminology, you will be performing inference using your model.\n",
        "\n",
        "Simply load your saved model from Task-2 and create an inference for the model. Where you'll feed an image as input and the model will output the label as well as the percentage of confidence for the label."
      ]
    },
    {
      "cell_type": "markdown",
      "id": "cd2313b4-c6f6-4305-be72-f21cdf531132",
      "metadata": {
        "id": "cd2313b4-c6f6-4305-be72-f21cdf531132"
      },
      "source": [
        "### 3.1 Write your code in the block below\n",
        "\n",
        "In the code block below write the code to use the model you created in Task-2. Load the model and input image, afterwards, show the result of the label/class together with confidence level in percentage as well as the input image."
      ]
    },
    {
      "cell_type": "code",
      "execution_count": null,
      "id": "c9120366-86dc-4314-ba9d-66f60ae5a884",
      "metadata": {
        "id": "c9120366-86dc-4314-ba9d-66f60ae5a884",
        "colab": {
          "base_uri": "https://localhost:8080/",
          "height": 489
        },
        "outputId": "e30cd39b-1f40-40dc-e718-13ceb3aebab4"
      },
      "outputs": [
        {
          "output_type": "stream",
          "name": "stderr",
          "text": [
            "WARNING:matplotlib.image:Clipping input data to the valid range for imshow with RGB data ([0..1] for floats or [0..255] for integers).\n"
          ]
        },
        {
          "output_type": "display_data",
          "data": {
            "text/plain": [
              "<Figure size 640x480 with 1 Axes>"
            ],
            "image/png": "[encoded data removed]"
          },
          "metadata": {}
        }
      ],
      "source": [
        "#Write your code for inference here\n",
        "import torch\n",
        "import torchvision.transforms as transforms\n",
        "from PIL import Image\n",
        "import matplotlib.pyplot as plt\n",
        "\n",
        "# Load your trained model\n",
        "model = CNNModel(num_classes=10)  # Replace with the actual model you trained\n",
        "model.load_state_dict(torch.load(\"/content/cifar10_cnn_model.pth\"))  # Load the saved model file\n",
        "\n",
        "# Define data transformations for the input image\n",
        "transform = transforms.Compose([\n",
        "    transforms.Resize((32, 32)),  # Resize to match the model's input size\n",
        "    transforms.ToTensor(),\n",
        "    transforms.Normalize((0.5, 0.5, 0.5), (0.5, 0.5, 0.5))  # Normalize the image\n",
        "])\n",
        "\n",
        "# Load and preprocess the input image\n",
        "input_image = Image.open(\"/content/cat3.jpg\")  # Replace with the path to your input image\n",
        "input_image = transform(input_image)  # Apply transformations\n",
        "\n",
        "# Perform inference\n",
        "model.eval()\n",
        "with torch.no_grad():\n",
        "    output = model(input_image.unsqueeze(0))  # Add batch dimension\n",
        "\n",
        "# Get the predicted label and confidence\n",
        "_, predicted = torch.max(output, 1)\n",
        "confidence = torch.nn.functional.softmax(output, dim=1)[0] * 100  # Convert to percentage\n",
        "\n",
        "# Define class labels (replace with your own class labels)\n",
        "class_labels = [\"airplane\", \"automobile\", \"bird\", \"cat\", \"deer\", \"dog\", \"frog\", \"horse\", \"ship\", \"truck\"]\n",
        "\n",
        "# Display the result\n",
        "plt.imshow(input_image.permute(1, 2, 0))  # Show the input image\n",
        "predicted_label = class_labels[predicted.item()]  # Convert tensor to Python scalar\n",
        "confidence_value = confidence[predicted].item()  # Convert tensor to Python scalar\n",
        "plt.title(f'Predicted Label: {predicted_label}, Confidence: {confidence_value:.2f}%')\n",
        "plt.show()"
      ]
    },
    {
      "cell_type": "markdown",
      "id": "2a021cd5-9c96-48d9-834d-18d37ba76824",
      "metadata": {
        "id": "2a021cd5-9c96-48d9-834d-18d37ba76824"
      },
      "source": [
        "## Task-4 Model Publishing\n",
        "\n",
        "In this task, you will push your model to Huggingface. Once you've pushed your model to the Hugging Face Model Hub, you'll have a link that points directly to your model's page. You can share this link with others, and they can use it to directly load your model for their own uses."
      ]
    },
    {
      "cell_type": "markdown",
      "id": "f9cbd245-e9f7-4fdb-bc2c-1ca8c63af516",
      "metadata": {
        "id": "f9cbd245-e9f7-4fdb-bc2c-1ca8c63af516"
      },
      "source": [
        "### 4.1 Write your code in the block below\n",
        "\n",
        "In the code block below, write the code to push your model to Huggingface. There are several methods to do this, please refer to the documentation: https://huggingface.co/docs/transformers/model_sharing\n",
        "\n",
        "Some techniques you may use:\n",
        "- If you use the Transformer Trainer during the training loop when you create your model above, then you can simply put your `trainer.push_to_hub()` here.\n",
        "- You can also use the web interface on Huggingface.\n",
        "\n",
        "Hint:\n",
        "- Remember to login first to your Huggingface account.\n",
        "- If you are pushing programmaticaly, then use the huggingface-cli to login."
      ]
    },
    {
      "cell_type": "code",
      "execution_count": null,
      "id": "ca04df60-d131-4108-88ae-18c253cfa1ba",
      "metadata": {
        "id": "ca04df60-d131-4108-88ae-18c253cfa1ba"
      },
      "outputs": [],
      "source": [
        "#Write your code for publishing here\n"
      ]
    }
  ],
  "metadata": {
    "kernelspec": {
      "display_name": "Python 3",
      "name": "python3"
    },
    "language_info": {
      "codemirror_mode": {
        "name": "ipython",
        "version": 3
      },
      "file_extension": ".py",
      "mimetype": "text/x-python",
      "name": "python",
      "nbconvert_exporter": "python",
      "pygments_lexer": "ipython3",
      "version": "3.11.3"
    },
    "colab": {
      "provenance": [],
      "gpuType": "T4",
      "include_colab_link": true
    },
    "accelerator": "GPU"
  },
  "nbformat": 4,
  "nbformat_minor": 5
}